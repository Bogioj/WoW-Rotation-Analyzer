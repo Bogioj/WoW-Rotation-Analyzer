{
 "cells": [
  {
   "cell_type": "markdown",
   "metadata": {},
   "source": [
    "## Bogio Scrapper for Warcraft Logs - Verify your rotation against SimC - Frost Mage 10.1.5\n",
    "## NEED TO CHANGE FOR C PATH"
   ]
  },
  {
   "cell_type": "markdown",
   "metadata": {},
   "source": [
    "### Make sure to install any required libraries below\n"
   ]
  },
  {
   "cell_type": "code",
   "execution_count": 1,
   "metadata": {},
   "outputs": [
    {
     "name": "stdout",
     "output_type": "stream",
     "text": [
      "Requirement already satisfied: lxml in c:\\users\\boguslaw jozwik\\appdata\\local\\programs\\python\\python311\\lib\\site-packages (4.9.3)\n"
     ]
    },
    {
     "name": "stderr",
     "output_type": "stream",
     "text": [
      "\n",
      "[notice] A new release of pip is available: 23.1.2 -> 23.2.1\n",
      "[notice] To update, run: python.exe -m pip install --upgrade pip\n"
     ]
    },
    {
     "name": "stdout",
     "output_type": "stream",
     "text": [
      "Requirement already satisfied: requests in c:\\users\\boguslaw jozwik\\appdata\\local\\programs\\python\\python311\\lib\\site-packages (2.31.0)\n",
      "Requirement already satisfied: charset-normalizer<4,>=2 in c:\\users\\boguslaw jozwik\\appdata\\local\\programs\\python\\python311\\lib\\site-packages (from requests) (3.2.0)\n",
      "Requirement already satisfied: idna<4,>=2.5 in c:\\users\\boguslaw jozwik\\appdata\\local\\programs\\python\\python311\\lib\\site-packages (from requests) (3.4)\n",
      "Requirement already satisfied: urllib3<3,>=1.21.1 in c:\\users\\boguslaw jozwik\\appdata\\local\\programs\\python\\python311\\lib\\site-packages (from requests) (2.0.3)\n",
      "Requirement already satisfied: certifi>=2017.4.17 in c:\\users\\boguslaw jozwik\\appdata\\local\\programs\\python\\python311\\lib\\site-packages (from requests) (2023.5.7)\n"
     ]
    },
    {
     "name": "stderr",
     "output_type": "stream",
     "text": [
      "\n",
      "[notice] A new release of pip is available: 23.1.2 -> 23.2.1\n",
      "[notice] To update, run: python.exe -m pip install --upgrade pip\n"
     ]
    },
    {
     "name": "stdout",
     "output_type": "stream",
     "text": [
      "Requirement already satisfied: bs4 in c:\\users\\boguslaw jozwik\\appdata\\local\\programs\\python\\python311\\lib\\site-packages (0.0.1)\n",
      "Requirement already satisfied: beautifulsoup4 in c:\\users\\boguslaw jozwik\\appdata\\local\\programs\\python\\python311\\lib\\site-packages (from bs4) (4.12.2)\n",
      "Requirement already satisfied: soupsieve>1.2 in c:\\users\\boguslaw jozwik\\appdata\\local\\programs\\python\\python311\\lib\\site-packages (from beautifulsoup4->bs4) (2.4.1)\n"
     ]
    },
    {
     "name": "stderr",
     "output_type": "stream",
     "text": [
      "\n",
      "[notice] A new release of pip is available: 23.1.2 -> 23.2.1\n",
      "[notice] To update, run: python.exe -m pip install --upgrade pip\n"
     ]
    },
    {
     "name": "stdout",
     "output_type": "stream",
     "text": [
      "Requirement already satisfied: pandas in c:\\users\\boguslaw jozwik\\appdata\\local\\programs\\python\\python311\\lib\\site-packages (2.0.3)\n",
      "Requirement already satisfied: python-dateutil>=2.8.2 in c:\\users\\boguslaw jozwik\\appdata\\local\\programs\\python\\python311\\lib\\site-packages (from pandas) (2.8.2)\n",
      "Requirement already satisfied: pytz>=2020.1 in c:\\users\\boguslaw jozwik\\appdata\\local\\programs\\python\\python311\\lib\\site-packages (from pandas) (2023.3)\n",
      "Requirement already satisfied: tzdata>=2022.1 in c:\\users\\boguslaw jozwik\\appdata\\local\\programs\\python\\python311\\lib\\site-packages (from pandas) (2023.3)\n",
      "Requirement already satisfied: numpy>=1.21.0 in c:\\users\\boguslaw jozwik\\appdata\\local\\programs\\python\\python311\\lib\\site-packages (from pandas) (1.25.1)\n",
      "Requirement already satisfied: six>=1.5 in c:\\users\\boguslaw jozwik\\appdata\\local\\programs\\python\\python311\\lib\\site-packages (from python-dateutil>=2.8.2->pandas) (1.16.0)\n"
     ]
    },
    {
     "name": "stderr",
     "output_type": "stream",
     "text": [
      "\n",
      "[notice] A new release of pip is available: 23.1.2 -> 23.2.1\n",
      "[notice] To update, run: python.exe -m pip install --upgrade pip\n"
     ]
    },
    {
     "name": "stdout",
     "output_type": "stream",
     "text": [
      "Requirement already satisfied: openpyxl in c:\\users\\boguslaw jozwik\\appdata\\local\\programs\\python\\python311\\lib\\site-packages (3.1.2)\n",
      "Requirement already satisfied: et-xmlfile in c:\\users\\boguslaw jozwik\\appdata\\local\\programs\\python\\python311\\lib\\site-packages (from openpyxl) (1.1.0)\n"
     ]
    },
    {
     "name": "stderr",
     "output_type": "stream",
     "text": [
      "\n",
      "[notice] A new release of pip is available: 23.1.2 -> 23.2.1\n",
      "[notice] To update, run: python.exe -m pip install --upgrade pip\n",
      "\n",
      "[notice] A new release of pip is available: 23.1.2 -> 23.2.1\n",
      "[notice] To update, run: python.exe -m pip install --upgrade pip\n"
     ]
    },
    {
     "name": "stdout",
     "output_type": "stream",
     "text": [
      "Requirement already satisfied: selenium in c:\\users\\boguslaw jozwik\\appdata\\local\\programs\\python\\python311\\lib\\site-packages (4.10.0)\n",
      "Requirement already satisfied: urllib3[socks]<3,>=1.26 in c:\\users\\boguslaw jozwik\\appdata\\local\\programs\\python\\python311\\lib\\site-packages (from selenium) (2.0.3)\n",
      "Requirement already satisfied: trio~=0.17 in c:\\users\\boguslaw jozwik\\appdata\\local\\programs\\python\\python311\\lib\\site-packages (from selenium) (0.22.2)\n",
      "Requirement already satisfied: trio-websocket~=0.9 in c:\\users\\boguslaw jozwik\\appdata\\local\\programs\\python\\python311\\lib\\site-packages (from selenium) (0.10.3)\n",
      "Requirement already satisfied: certifi>=2021.10.8 in c:\\users\\boguslaw jozwik\\appdata\\local\\programs\\python\\python311\\lib\\site-packages (from selenium) (2023.5.7)\n",
      "Requirement already satisfied: attrs>=20.1.0 in c:\\users\\boguslaw jozwik\\appdata\\local\\programs\\python\\python311\\lib\\site-packages (from trio~=0.17->selenium) (23.1.0)\n",
      "Requirement already satisfied: sortedcontainers in c:\\users\\boguslaw jozwik\\appdata\\local\\programs\\python\\python311\\lib\\site-packages (from trio~=0.17->selenium) (2.4.0)\n",
      "Requirement already satisfied: idna in c:\\users\\boguslaw jozwik\\appdata\\local\\programs\\python\\python311\\lib\\site-packages (from trio~=0.17->selenium) (3.4)\n",
      "Requirement already satisfied: outcome in c:\\users\\boguslaw jozwik\\appdata\\local\\programs\\python\\python311\\lib\\site-packages (from trio~=0.17->selenium) (1.2.0)\n",
      "Requirement already satisfied: sniffio in c:\\users\\boguslaw jozwik\\appdata\\local\\programs\\python\\python311\\lib\\site-packages (from trio~=0.17->selenium) (1.3.0)\n",
      "Requirement already satisfied: cffi>=1.14 in c:\\users\\boguslaw jozwik\\appdata\\local\\programs\\python\\python311\\lib\\site-packages (from trio~=0.17->selenium) (1.15.1)\n",
      "Requirement already satisfied: exceptiongroup in c:\\users\\boguslaw jozwik\\appdata\\local\\programs\\python\\python311\\lib\\site-packages (from trio-websocket~=0.9->selenium) (1.1.2)\n",
      "Requirement already satisfied: wsproto>=0.14 in c:\\users\\boguslaw jozwik\\appdata\\local\\programs\\python\\python311\\lib\\site-packages (from trio-websocket~=0.9->selenium) (1.2.0)\n",
      "Requirement already satisfied: pysocks!=1.5.7,<2.0,>=1.5.6 in c:\\users\\boguslaw jozwik\\appdata\\local\\programs\\python\\python311\\lib\\site-packages (from urllib3[socks]<3,>=1.26->selenium) (1.7.1)\n",
      "Requirement already satisfied: pycparser in c:\\users\\boguslaw jozwik\\appdata\\local\\programs\\python\\python311\\lib\\site-packages (from cffi>=1.14->trio~=0.17->selenium) (2.21)\n",
      "Requirement already satisfied: h11<1,>=0.9.0 in c:\\users\\boguslaw jozwik\\appdata\\local\\programs\\python\\python311\\lib\\site-packages (from wsproto>=0.14->trio-websocket~=0.9->selenium) (0.14.0)\n"
     ]
    }
   ],
   "source": [
    "#add any other libraries you need\n",
    "%pip install lxml\n",
    "%pip install requests\n",
    "%pip install bs4\n",
    "%pip install pandas\n",
    "%pip install openpyxl\n",
    "%pip install selenium"
   ]
  },
  {
   "cell_type": "markdown",
   "metadata": {},
   "source": [
    "### Normally we'd explore the data and parse it with soup but the rotation data is dynamic so we can't automatically extract it the easy way. The information we need is in the \"timeline-lines\" and as you can check, it is empty.\n"
   ]
  },
  {
   "cell_type": "code",
   "execution_count": null,
   "metadata": {},
   "outputs": [],
   "source": [
    "import requests\n",
    "from bs4 import BeautifulSoup\n",
    "import pandas as pd\n",
    "\n",
    "def scrape_spell_data(url):\n",
    "    response = requests.get(url)\n",
    "    if response.status_code == 200:\n",
    "        soup = BeautifulSoup(response.content, 'lxml')\n",
    "        return soup  # Return the 'soup' object\n",
    "\n",
    "url = 'https://www.warcraftlogs.com/reports/HNTmQ4wBYypRPVh2/#fight=last&type=casts&source=110&start=743381&end=1056565&view=timeline'\n",
    "soup = scrape_spell_data(url)  # Assign the returned 'soup' object to a variable\n",
    "\n",
    "\n",
    "# Now you can use 'soup' to explore and extract data\n",
    "print(soup.prettify())\n",
    "\n",
    "\n"
   ]
  },
  {
   "cell_type": "markdown",
   "metadata": {},
   "source": [
    "### Instructions how to prepare your data manually\n",
    "1. Upload your logs\n",
    "2. Edit the timeline and casts as you want\n",
    "3. Press F12\n",
    "4. Go into elements\n",
    "5. Ctrl+F and type \"timeline-lines\"\n",
    "6. If you mouseover and the window highlights - it means you are in a good spot\n",
    "7. Right click, copy -> copy element and save the content into \"raw_data.txt\" file\n",
    "\n",
    "![Image Description](Prepare_data.jpg)\n",
    "\n",
    "\n",
    "\n"
   ]
  },
  {
   "cell_type": "markdown",
   "metadata": {},
   "source": [
    "### Or you can install chromedriver and automate it with selenium\n",
    "1. Upload your logs\n",
    "2. Edit the timeline and other data\n",
    "3. copy the url and paste it below\n",
    "\n",
    "\n",
    "\n",
    "\n",
    "\n"
   ]
  },
  {
   "cell_type": "code",
   "execution_count": 1,
   "metadata": {},
   "outputs": [
    {
     "name": "stdout",
     "output_type": "stream",
     "text": [
      "Dynamic content has been copied to 'raw_data.txt' in the 'bin' folder.\n"
     ]
    }
   ],
   "source": [
    "from selenium import webdriver\n",
    "from selenium.webdriver.common.by import By\n",
    "import os\n",
    "\n",
    "def scrape_dynamic_website(url):\n",
    "    # Create a Chrome WebDriver\n",
    "    driver = webdriver.Chrome()\n",
    "\n",
    "    # Navigate to the URL\n",
    "    driver.get(url)\n",
    "\n",
    "    # Wait for the dynamic content to load (you may need to adjust the time)\n",
    "    driver.implicitly_wait(10)\n",
    "\n",
    "    # Find and extract the dynamic elements\n",
    "    table_element = driver.find_element(By.CLASS_NAME, \"timeline-lines\")\n",
    "    table_content = table_element.get_attribute('outerHTML')\n",
    "\n",
    "    # Manually specify the path to the \"bin\" folder\n",
    "    bin_folder = os.path.join(os.getcwd(), \"bin\")\n",
    "\n",
    "    # Save the dynamic content to a .txt file in the \"bin\" folder\n",
    "    file_path = os.path.join(bin_folder, 'raw_data.txt')\n",
    "    with open(file_path, 'w', encoding='utf-8') as file:\n",
    "        file.write(table_content)\n",
    "\n",
    "    # Close the WebDriver\n",
    "    driver.quit()\n",
    "\n",
    "    print(\"Dynamic content has been copied to 'raw_data.txt' in the 'bin' folder.\")\n",
    "\n",
    "# Replace with the URL of the website you want to scrape\n",
    "url = 'https://www.warcraftlogs.com/reports/HNTmQ4wBYypRPVh2/#fight=last&type=casts&source=110&start=743381&end=1056565&view=timeline'\n",
    "scrape_dynamic_website(url)"
   ]
  },
  {
   "cell_type": "markdown",
   "metadata": {},
   "source": [
    "### Lets extract the \"timestamps\" and skills once you get your data prepared\n"
   ]
  },
  {
   "cell_type": "code",
   "execution_count": 2,
   "metadata": {},
   "outputs": [
    {
     "data": {
      "text/html": [
       "<div>\n",
       "<style scoped>\n",
       "    .dataframe tbody tr th:only-of-type {\n",
       "        vertical-align: middle;\n",
       "    }\n",
       "\n",
       "    .dataframe tbody tr th {\n",
       "        vertical-align: top;\n",
       "    }\n",
       "\n",
       "    .dataframe thead th {\n",
       "        text-align: right;\n",
       "    }\n",
       "</style>\n",
       "<table border=\"1\" class=\"dataframe\">\n",
       "  <thead>\n",
       "    <tr style=\"text-align: right;\">\n",
       "      <th></th>\n",
       "      <th>timestamps</th>\n",
       "      <th>Name</th>\n",
       "    </tr>\n",
       "  </thead>\n",
       "  <tbody>\n",
       "    <tr>\n",
       "      <th>0</th>\n",
       "      <td>747054</td>\n",
       "      <td>spell_frost_frostbolt02.j</td>\n",
       "    </tr>\n",
       "    <tr>\n",
       "      <th>1</th>\n",
       "      <td>762733</td>\n",
       "      <td>spell_frost_frostbolt02.j</td>\n",
       "    </tr>\n",
       "    <tr>\n",
       "      <th>2</th>\n",
       "      <td>763750</td>\n",
       "      <td>spell_frost_frostbolt02.j</td>\n",
       "    </tr>\n",
       "    <tr>\n",
       "      <th>3</th>\n",
       "      <td>769066</td>\n",
       "      <td>spell_frost_frostbolt02.j</td>\n",
       "    </tr>\n",
       "    <tr>\n",
       "      <th>4</th>\n",
       "      <td>774612</td>\n",
       "      <td>spell_frost_frostbolt02.j</td>\n",
       "    </tr>\n",
       "    <tr>\n",
       "      <th>5</th>\n",
       "      <td>778530</td>\n",
       "      <td>spell_frost_frostbolt02.j</td>\n",
       "    </tr>\n",
       "    <tr>\n",
       "      <th>6</th>\n",
       "      <td>779446</td>\n",
       "      <td>spell_frost_frostbolt02.j</td>\n",
       "    </tr>\n",
       "    <tr>\n",
       "      <th>7</th>\n",
       "      <td>783269</td>\n",
       "      <td>spell_frost_frostbolt02.j</td>\n",
       "    </tr>\n",
       "    <tr>\n",
       "      <th>8</th>\n",
       "      <td>784957</td>\n",
       "      <td>spell_frost_frostbolt02.j</td>\n",
       "    </tr>\n",
       "    <tr>\n",
       "      <th>9</th>\n",
       "      <td>788932</td>\n",
       "      <td>spell_frost_frostbolt02.j</td>\n",
       "    </tr>\n",
       "  </tbody>\n",
       "</table>\n",
       "</div>"
      ],
      "text/plain": [
       "  timestamps                       Name\n",
       "0     747054  spell_frost_frostbolt02.j\n",
       "1     762733  spell_frost_frostbolt02.j\n",
       "2     763750  spell_frost_frostbolt02.j\n",
       "3     769066  spell_frost_frostbolt02.j\n",
       "4     774612  spell_frost_frostbolt02.j\n",
       "5     778530  spell_frost_frostbolt02.j\n",
       "6     779446  spell_frost_frostbolt02.j\n",
       "7     783269  spell_frost_frostbolt02.j\n",
       "8     784957  spell_frost_frostbolt02.j\n",
       "9     788932  spell_frost_frostbolt02.j"
      ]
     },
     "execution_count": 2,
     "metadata": {},
     "output_type": "execute_result"
    }
   ],
   "source": [
    "import pandas as pd\n",
    "import re\n",
    "\n",
    "def read_file(file_path):\n",
    "    with open(file_path, 'r') as file:\n",
    "        content = file.read()\n",
    "    return content\n",
    "\n",
    "def extract(file_content, search_string, char_length):\n",
    "    timestamps = []\n",
    "    start_index = 0\n",
    "    \n",
    "    while True:\n",
    "        # Find the occurrence of the search string in the content\n",
    "        start_index = file_content.find(search_string, start_index)\n",
    "        \n",
    "        if start_index == -1:\n",
    "            # If no more occurrences are found, break the loop\n",
    "            break\n",
    "        \n",
    "        # Extract the timestamp (next 7 characters after the search string)\n",
    "        timestamp = file_content[start_index + len(search_string): start_index + len(search_string) + char_length]\n",
    "        \n",
    "        # Remove commas from the timestamp and append to the list\n",
    "        timestamps.append(timestamp.replace(',', ''))\n",
    "        \n",
    "        # Move the start_index to continue searching from the next position\n",
    "        start_index += len(search_string)\n",
    "    \n",
    "    return timestamps\n",
    "\n",
    "file_path = r'C:\\Python_Projects\\Rotation_Analyzer_WoW\\bin\\raw_data.txt'\n",
    "file_content = read_file(file_path)\n",
    "search_timestamp = '<div onmouseover=\"showTimelineTooltipText(this, 1, printEvent({&quot;timestamp&quot;:'\n",
    "search_src = 'abilities/'\n",
    "timestamps = extract(file_content, search_timestamp, 7)\n",
    "src = extract(file_content, search_src, 25)\n",
    "\n",
    "#print(timestamps)\n",
    "#timestamps\n",
    "#print(src)\n",
    "data = {'timestamps': timestamps, 'Name': src}\n",
    "df = pd.DataFrame(data)\n",
    "df.head(10)\n",
    "#df.dtypes\n",
    "\n"
   ]
  },
  {
   "cell_type": "markdown",
   "metadata": {},
   "source": [
    "### Lets sort the data"
   ]
  },
  {
   "cell_type": "code",
   "execution_count": 3,
   "metadata": {},
   "outputs": [
    {
     "data": {
      "text/html": [
       "<div>\n",
       "<style scoped>\n",
       "    .dataframe tbody tr th:only-of-type {\n",
       "        vertical-align: middle;\n",
       "    }\n",
       "\n",
       "    .dataframe tbody tr th {\n",
       "        vertical-align: top;\n",
       "    }\n",
       "\n",
       "    .dataframe thead th {\n",
       "        text-align: right;\n",
       "    }\n",
       "</style>\n",
       "<table border=\"1\" class=\"dataframe\">\n",
       "  <thead>\n",
       "    <tr style=\"text-align: right;\">\n",
       "      <th></th>\n",
       "      <th>timestamps</th>\n",
       "      <th>Name</th>\n",
       "    </tr>\n",
       "  </thead>\n",
       "  <tbody>\n",
       "    <tr>\n",
       "      <th>0</th>\n",
       "      <td>747054</td>\n",
       "      <td>spell_frost_frostbolt02.j</td>\n",
       "    </tr>\n",
       "    <tr>\n",
       "      <th>135</th>\n",
       "      <td>748857</td>\n",
       "      <td>ability_warlock_burningem</td>\n",
       "    </tr>\n",
       "    <tr>\n",
       "      <th>252</th>\n",
       "      <td>748857</td>\n",
       "      <td>racial_troll_berserk.jpg\"</td>\n",
       "    </tr>\n",
       "    <tr>\n",
       "      <th>256</th>\n",
       "      <td>748857</td>\n",
       "      <td>trade_alchemy_dpotion_b20</td>\n",
       "    </tr>\n",
       "    <tr>\n",
       "      <th>249</th>\n",
       "      <td>748857</td>\n",
       "      <td>spell_frost_coldhearted.j</td>\n",
       "    </tr>\n",
       "    <tr>\n",
       "      <th>254</th>\n",
       "      <td>749062</td>\n",
       "      <td>ability_mage_timewarp.jpg</td>\n",
       "    </tr>\n",
       "    <tr>\n",
       "      <th>224</th>\n",
       "      <td>749669</td>\n",
       "      <td>spell_mage_cometstorm2.jp</td>\n",
       "    </tr>\n",
       "    <tr>\n",
       "      <th>70</th>\n",
       "      <td>750504</td>\n",
       "      <td>spell_frost_frostblast.jp</td>\n",
       "    </tr>\n",
       "    <tr>\n",
       "      <th>234</th>\n",
       "      <td>751337</td>\n",
       "      <td>ability_mage_rayoffrost.j</td>\n",
       "    </tr>\n",
       "    <tr>\n",
       "      <th>71</th>\n",
       "      <td>753811</td>\n",
       "      <td>spell_frost_frostblast.jp</td>\n",
       "    </tr>\n",
       "  </tbody>\n",
       "</table>\n",
       "</div>"
      ],
      "text/plain": [
       "     timestamps                       Name\n",
       "0        747054  spell_frost_frostbolt02.j\n",
       "135      748857  ability_warlock_burningem\n",
       "252      748857  racial_troll_berserk.jpg\"\n",
       "256      748857  trade_alchemy_dpotion_b20\n",
       "249      748857  spell_frost_coldhearted.j\n",
       "254      749062  ability_mage_timewarp.jpg\n",
       "224      749669  spell_mage_cometstorm2.jp\n",
       "70       750504  spell_frost_frostblast.jp\n",
       "234      751337  ability_mage_rayoffrost.j\n",
       "71       753811  spell_frost_frostblast.jp"
      ]
     },
     "execution_count": 3,
     "metadata": {},
     "output_type": "execute_result"
    }
   ],
   "source": [
    "#sort the data\n",
    "df['timestamps'] = pd.to_numeric(df['timestamps'])\n",
    "#df.dtypes\n",
    "# Sort the DataFrame by the \"timestamps\" column in ascending order\n",
    "df_sorted = df.sort_values(by='timestamps', ascending=True)\n",
    "\n",
    "df_sorted.head(10)"
   ]
  },
  {
   "cell_type": "markdown",
   "metadata": {},
   "source": [
    "### Lets check how many times each spell was used"
   ]
  },
  {
   "cell_type": "code",
   "execution_count": 4,
   "metadata": {},
   "outputs": [
    {
     "data": {
      "text/html": [
       "<div>\n",
       "<style scoped>\n",
       "    .dataframe tbody tr th:only-of-type {\n",
       "        vertical-align: middle;\n",
       "    }\n",
       "\n",
       "    .dataframe tbody tr th {\n",
       "        vertical-align: top;\n",
       "    }\n",
       "\n",
       "    .dataframe thead th {\n",
       "        text-align: right;\n",
       "    }\n",
       "</style>\n",
       "<table border=\"1\" class=\"dataframe\">\n",
       "  <thead>\n",
       "    <tr style=\"text-align: right;\">\n",
       "      <th></th>\n",
       "      <th>Name</th>\n",
       "      <th>Count</th>\n",
       "    </tr>\n",
       "  </thead>\n",
       "  <tbody>\n",
       "    <tr>\n",
       "      <th>9</th>\n",
       "      <td>spell_frost_frostbolt02.j</td>\n",
       "      <td>70</td>\n",
       "    </tr>\n",
       "    <tr>\n",
       "      <th>8</th>\n",
       "      <td>spell_frost_frostblast.jp</td>\n",
       "      <td>65</td>\n",
       "    </tr>\n",
       "    <tr>\n",
       "      <th>5</th>\n",
       "      <td>ability_warlock_burningem</td>\n",
       "      <td>38</td>\n",
       "    </tr>\n",
       "    <tr>\n",
       "      <th>1</th>\n",
       "      <td>ability_mage_glacialspike</td>\n",
       "      <td>35</td>\n",
       "    </tr>\n",
       "    <tr>\n",
       "      <th>0</th>\n",
       "      <td>ability_ardenweald_mage.j</td>\n",
       "      <td>20</td>\n",
       "    </tr>\n",
       "    <tr>\n",
       "      <th>11</th>\n",
       "      <td>spell_mage_cometstorm2.jp</td>\n",
       "      <td>10</td>\n",
       "    </tr>\n",
       "    <tr>\n",
       "      <th>3</th>\n",
       "      <td>ability_mage_rayoffrost.j</td>\n",
       "      <td>6</td>\n",
       "    </tr>\n",
       "    <tr>\n",
       "      <th>10</th>\n",
       "      <td>spell_frost_frozenorb.jpg</td>\n",
       "      <td>5</td>\n",
       "    </tr>\n",
       "    <tr>\n",
       "      <th>7</th>\n",
       "      <td>spell_frost_coldhearted.j</td>\n",
       "      <td>3</td>\n",
       "    </tr>\n",
       "    <tr>\n",
       "      <th>2</th>\n",
       "      <td>ability_mage_greaterinvis</td>\n",
       "      <td>2</td>\n",
       "    </tr>\n",
       "  </tbody>\n",
       "</table>\n",
       "</div>"
      ],
      "text/plain": [
       "                         Name  Count\n",
       "9   spell_frost_frostbolt02.j     70\n",
       "8   spell_frost_frostblast.jp     65\n",
       "5   ability_warlock_burningem     38\n",
       "1   ability_mage_glacialspike     35\n",
       "0   ability_ardenweald_mage.j     20\n",
       "11  spell_mage_cometstorm2.jp     10\n",
       "3   ability_mage_rayoffrost.j      6\n",
       "10  spell_frost_frozenorb.jpg      5\n",
       "7   spell_frost_coldhearted.j      3\n",
       "2   ability_mage_greaterinvis      2"
      ]
     },
     "execution_count": 4,
     "metadata": {},
     "output_type": "execute_result"
    }
   ],
   "source": [
    "df_spell_density=df.groupby(\"Name\")\n",
    "df_spell_density.size()\n",
    "df_spell_counts = df_spell_density.size().reset_index(name='Count')\n",
    "df_spell_counts_sorted = df_spell_counts.sort_values(by='Count', ascending=False)\n",
    "df_spell_counts_sorted.head(10)"
   ]
  },
  {
   "cell_type": "markdown",
   "metadata": {},
   "source": [
    "### And lets save the data to a new csv"
   ]
  },
  {
   "cell_type": "code",
   "execution_count": 5,
   "metadata": {},
   "outputs": [],
   "source": [
    "import os\n",
    "import pandas as pd\n",
    "\n",
    "# Get the current working directory\n",
    "current_directory = os.getcwd()\n",
    "\n",
    "# Specify the folder where you want to save the Excel file (e.g., \"bin\")\n",
    "save_folder = \"bin\"\n",
    "\n",
    "# Combine the current directory and the save folder to get the full path\n",
    "save_path = os.path.join(current_directory, save_folder)\n",
    "\n",
    "# Create the \"bin\" folder if it doesn't exist\n",
    "if not os.path.exists(save_path):\n",
    "    os.makedirs(save_path)\n",
    "\n",
    "# Specify the new Excel file name\n",
    "excel_file_new = os.path.join(save_path, \"Rotation_WarcraftLogs.xlsx\")\n",
    "\n",
    "# Save the df_sorted DataFrame to the new Excel file with the specified sheet name and starting from cell A1\n",
    "with pd.ExcelWriter(excel_file_new, engine='openpyxl') as writer:\n",
    "    df_sorted.to_excel(writer, sheet_name=\"Warcraft_Logs\", index=False)\n",
    "\n",
    "    # Specify the starting cell for df_spell_counts_sorted\n",
    "    start_row = 0\n",
    "    start_col = 5  # This will be the column after the last column of df_sorted\n",
    "\n",
    "    # Save the df_spell_counts_sorted DataFrame to the same Excel file and sheet\n",
    "    df_spell_counts_sorted.to_excel(writer, sheet_name=\"Warcraft_Logs\", startrow=start_row, startcol=start_col, index=False)\n"
   ]
  },
  {
   "cell_type": "code",
   "execution_count": 4,
   "metadata": {},
   "outputs": [
    {
     "data": {
      "text/plain": [
       "'c:\\\\Python_Projects\\\\Rotation_Analyzer_WoW\\\\bin'"
      ]
     },
     "execution_count": 4,
     "metadata": {},
     "output_type": "execute_result"
    }
   ],
   "source": [
    "import sys\n",
    "import os\n",
    "script_path = os.getcwd()\n",
    "excel_path = os.path.dirname(script_path)\n",
    "script_path_filename = os.path.abspath(os.getcwd())\n",
    "script_path\n"
   ]
  },
  {
   "cell_type": "markdown",
   "metadata": {},
   "source": []
  }
 ],
 "metadata": {
  "kernelspec": {
   "display_name": "Python 3",
   "language": "python",
   "name": "python3"
  },
  "language_info": {
   "codemirror_mode": {
    "name": "ipython",
    "version": 3
   },
   "file_extension": ".py",
   "mimetype": "text/x-python",
   "name": "python",
   "nbconvert_exporter": "python",
   "pygments_lexer": "ipython3",
   "version": "3.11.4"
  },
  "orig_nbformat": 4
 },
 "nbformat": 4,
 "nbformat_minor": 2
}
